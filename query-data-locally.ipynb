{
 "cells": [
  {
   "cell_type": "code",
   "execution_count": 8,
   "metadata": {},
   "outputs": [],
   "source": [
    "import boto3\n",
    "from botocore.client import Config\n",
    "from pyiceberg.catalog.sql import SqlCatalog\n",
    "from pyiceberg.table import Table\n",
    "import yaml\n",
    "import pandas as pd"
   ]
  },
  {
   "cell_type": "code",
   "execution_count": 10,
   "metadata": {},
   "outputs": [],
   "source": [
    "import os\n",
    "from dotenv import load_dotenv\n",
    "from pyiceberg.catalog import load_catalog\n",
    "from pyiceberg.expressions import GreaterThanOrEqual\n",
    "\n",
    "# get the environment variables\n",
    "load_dotenv()\n",
    "host_name = os.getenv('HOST_NAME')\n",
    "username = os.getenv('USERNAME_FOR_TESTING')\n",
    "passw = os.getenv('PASSWORD_FOR_TESTING')\n",
    "\n",
    "catalog = load_catalog('default', **{\n",
    "    'uri': f'http://{host_name}:8181',\n",
    "    's3.endpoint': f'http://{host_name}:9000', \n",
    "    's3.access-key-id': username,\n",
    "    's3.secret-access-key': passw, \n",
    "})"
   ]
  },
  {
   "cell_type": "code",
   "execution_count": 14,
   "metadata": {},
   "outputs": [],
   "source": [
    "tbl = catalog.load_table('cb.payments')\n",
    "\n",
    "sc = tbl.scan(row_filter=GreaterThanOrEqual(\"timestamp\", \"2022-05-01T00:00:00.000000+00:00\"))"
   ]
  },
  {
   "cell_type": "code",
   "execution_count": 15,
   "metadata": {},
   "outputs": [],
   "source": [
    "df = sc.to_arrow().to_pandas()"
   ]
  },
  {
   "cell_type": "code",
   "execution_count": null,
   "metadata": {},
   "outputs": [],
   "source": [
    "df.head()"
   ]
  }
 ],
 "metadata": {
  "kernelspec": {
   "display_name": "minio",
   "language": "python",
   "name": "python3"
  },
  "language_info": {
   "codemirror_mode": {
    "name": "ipython",
    "version": 3
   },
   "file_extension": ".py",
   "mimetype": "text/x-python",
   "name": "python",
   "nbconvert_exporter": "python",
   "pygments_lexer": "ipython3",
   "version": "3.11.8"
  }
 },
 "nbformat": 4,
 "nbformat_minor": 2
}
